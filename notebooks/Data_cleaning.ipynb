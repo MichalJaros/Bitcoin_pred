{
 "cells": [
  {
   "cell_type": "markdown",
   "id": "3c9440bb-e5f8-48fe-8c89-c4f7380ac1e7",
   "metadata": {},
   "source": [
    "### Import of libraries and defining paths to files"
   ]
  },
  {
   "cell_type": "code",
   "execution_count": 3,
   "id": "b9e2f532-6233-40c0-8155-ca36f4e086b3",
   "metadata": {},
   "outputs": [],
   "source": [
    "import numpy as np\n",
    "import pandas as pd\n",
    "import warnings\n",
    "\n",
    "warnings.simplefilter(action='ignore', category=FutureWarning)\n",
    "warnings.filterwarnings('ignore')"
   ]
  },
  {
   "cell_type": "code",
   "execution_count": 4,
   "id": "fb982b04-8218-461a-82ab-0f67e5a22e1d",
   "metadata": {},
   "outputs": [],
   "source": [
    "BASE_PATH = r\"C:\\Users\\micha\\OneDrive\\Pulpit\\Project\\Bitcoin_pred\\data\"\n",
    "\n",
    "PATH_TO_ORIGINAL_DATA = f\"{BASE_PATH}\\\\Bitcoin.csv\"\n",
    "\n",
    "# Path to cleaned data with missing values removed\n",
    "PATH_TO_CLEANED_DATA = f\"{BASE_PATH}/cleaned_data.csv\"\n",
    "\n",
    "# Path to the file with the dependent variable\n",
    "PATH_TO_TARGET_DATA = f\"{BASE_PATH}/target_data.csv\"\n",
    "\n",
    "# Path to the file with universal features created for time series (e.g., quarter, month, day of the week)\n",
    "PATH_TO_TIME_FEATURES = f\"{BASE_PATH}/time_features.csv\"\n",
    "\n",
    "# Path to the file with features specific to the data\n",
    "PATH_TO_SPECIFIC_FEATURES = f\"{BASE_PATH}/specific_features.csv\"\n",
    "\n",
    "# Paths to files with training, validation, and testing data\n",
    "PATH_TO_TRAINING_DATA = f\"{BASE_PATH}/training_data.csv\"\n",
    "PATH_TO_VALIDATION_DATA = f\"{BASE_PATH}/validation_data.csv\"\n",
    "PATH_TO_TESTING_DATA = f\"{BASE_PATH}/testing_data.csv\""
   ]
  },
  {
   "cell_type": "markdown",
   "id": "4505de87-4aab-4f5f-ba87-1f038f22b45a",
   "metadata": {},
   "source": [
    "### Analysis of raw data and creation of the target variable"
   ]
  },
  {
   "cell_type": "code",
   "execution_count": 5,
   "id": "cd87117d-ed54-4fdb-b3ef-8e7ff78d449f",
   "metadata": {},
   "outputs": [],
   "source": [
    "bitcoin_df = pd.read_csv(PATH_TO_ORIGINAL_DATA)"
   ]
  },
  {
   "cell_type": "code",
   "execution_count": 6,
   "id": "c59ba781-d733-4ab6-85cf-0e43ab7bb21c",
   "metadata": {},
   "outputs": [
    {
     "data": {
      "text/html": [
       "<div>\n",
       "<style scoped>\n",
       "    .dataframe tbody tr th:only-of-type {\n",
       "        vertical-align: middle;\n",
       "    }\n",
       "\n",
       "    .dataframe tbody tr th {\n",
       "        vertical-align: top;\n",
       "    }\n",
       "\n",
       "    .dataframe thead th {\n",
       "        text-align: right;\n",
       "    }\n",
       "</style>\n",
       "<table border=\"1\" class=\"dataframe\">\n",
       "  <thead>\n",
       "    <tr style=\"text-align: right;\">\n",
       "      <th></th>\n",
       "      <th>date</th>\n",
       "      <th>price</th>\n",
       "      <th>total_volume</th>\n",
       "      <th>market_cap</th>\n",
       "      <th>coin_name</th>\n",
       "    </tr>\n",
       "  </thead>\n",
       "  <tbody>\n",
       "    <tr>\n",
       "      <th>0</th>\n",
       "      <td>2015-01-01 00:00:00.000</td>\n",
       "      <td>313.992000</td>\n",
       "      <td>4.699936e+07</td>\n",
       "      <td>4.293958e+09</td>\n",
       "      <td>bitcoin</td>\n",
       "    </tr>\n",
       "    <tr>\n",
       "      <th>1</th>\n",
       "      <td>2015-01-02 00:00:00.000</td>\n",
       "      <td>314.446000</td>\n",
       "      <td>3.885591e+07</td>\n",
       "      <td>4.301448e+09</td>\n",
       "      <td>bitcoin</td>\n",
       "    </tr>\n",
       "    <tr>\n",
       "      <th>2</th>\n",
       "      <td>2015-01-03 00:00:00.000</td>\n",
       "      <td>286.572000</td>\n",
       "      <td>1.187789e+08</td>\n",
       "      <td>3.921358e+09</td>\n",
       "      <td>bitcoin</td>\n",
       "    </tr>\n",
       "    <tr>\n",
       "      <th>3</th>\n",
       "      <td>2015-01-04 00:00:00.000</td>\n",
       "      <td>260.936000</td>\n",
       "      <td>2.055001e+08</td>\n",
       "      <td>3.571640e+09</td>\n",
       "      <td>bitcoin</td>\n",
       "    </tr>\n",
       "    <tr>\n",
       "      <th>4</th>\n",
       "      <td>2015-01-05 00:00:00.000</td>\n",
       "      <td>273.220000</td>\n",
       "      <td>1.550381e+08</td>\n",
       "      <td>3.740880e+09</td>\n",
       "      <td>bitcoin</td>\n",
       "    </tr>\n",
       "    <tr>\n",
       "      <th>...</th>\n",
       "      <td>...</td>\n",
       "      <td>...</td>\n",
       "      <td>...</td>\n",
       "      <td>...</td>\n",
       "      <td>...</td>\n",
       "    </tr>\n",
       "    <tr>\n",
       "      <th>3295</th>\n",
       "      <td>2024-01-10 00:00:00.000</td>\n",
       "      <td>46105.946078</td>\n",
       "      <td>3.988792e+10</td>\n",
       "      <td>9.021669e+11</td>\n",
       "      <td>bitcoin</td>\n",
       "    </tr>\n",
       "    <tr>\n",
       "      <th>3296</th>\n",
       "      <td>2024-01-11 00:00:00.000</td>\n",
       "      <td>46632.313148</td>\n",
       "      <td>5.203006e+10</td>\n",
       "      <td>9.152593e+11</td>\n",
       "      <td>bitcoin</td>\n",
       "    </tr>\n",
       "    <tr>\n",
       "      <th>3297</th>\n",
       "      <td>2024-01-12 00:00:00.000</td>\n",
       "      <td>46314.355542</td>\n",
       "      <td>4.919813e+10</td>\n",
       "      <td>9.098464e+11</td>\n",
       "      <td>bitcoin</td>\n",
       "    </tr>\n",
       "    <tr>\n",
       "      <th>3298</th>\n",
       "      <td>2024-01-13 00:00:00.000</td>\n",
       "      <td>42893.929606</td>\n",
       "      <td>4.591330e+10</td>\n",
       "      <td>8.383835e+11</td>\n",
       "      <td>bitcoin</td>\n",
       "    </tr>\n",
       "    <tr>\n",
       "      <th>3299</th>\n",
       "      <td>2024-01-14 00:00:00.000</td>\n",
       "      <td>42848.474516</td>\n",
       "      <td>1.942475e+10</td>\n",
       "      <td>8.391987e+11</td>\n",
       "      <td>bitcoin</td>\n",
       "    </tr>\n",
       "  </tbody>\n",
       "</table>\n",
       "<p>3300 rows × 5 columns</p>\n",
       "</div>"
      ],
      "text/plain": [
       "                         date         price  total_volume    market_cap  \\\n",
       "0     2015-01-01 00:00:00.000    313.992000  4.699936e+07  4.293958e+09   \n",
       "1     2015-01-02 00:00:00.000    314.446000  3.885591e+07  4.301448e+09   \n",
       "2     2015-01-03 00:00:00.000    286.572000  1.187789e+08  3.921358e+09   \n",
       "3     2015-01-04 00:00:00.000    260.936000  2.055001e+08  3.571640e+09   \n",
       "4     2015-01-05 00:00:00.000    273.220000  1.550381e+08  3.740880e+09   \n",
       "...                       ...           ...           ...           ...   \n",
       "3295  2024-01-10 00:00:00.000  46105.946078  3.988792e+10  9.021669e+11   \n",
       "3296  2024-01-11 00:00:00.000  46632.313148  5.203006e+10  9.152593e+11   \n",
       "3297  2024-01-12 00:00:00.000  46314.355542  4.919813e+10  9.098464e+11   \n",
       "3298  2024-01-13 00:00:00.000  42893.929606  4.591330e+10  8.383835e+11   \n",
       "3299  2024-01-14 00:00:00.000  42848.474516  1.942475e+10  8.391987e+11   \n",
       "\n",
       "     coin_name  \n",
       "0      bitcoin  \n",
       "1      bitcoin  \n",
       "2      bitcoin  \n",
       "3      bitcoin  \n",
       "4      bitcoin  \n",
       "...        ...  \n",
       "3295   bitcoin  \n",
       "3296   bitcoin  \n",
       "3297   bitcoin  \n",
       "3298   bitcoin  \n",
       "3299   bitcoin  \n",
       "\n",
       "[3300 rows x 5 columns]"
      ]
     },
     "execution_count": 6,
     "metadata": {},
     "output_type": "execute_result"
    }
   ],
   "source": [
    "bitcoin_df"
   ]
  },
  {
   "cell_type": "code",
   "execution_count": 7,
   "id": "a2856357-677e-4704-90d7-6b81f8bbd03b",
   "metadata": {
    "scrolled": true
   },
   "outputs": [
    {
     "name": "stdout",
     "output_type": "stream",
     "text": [
      "<class 'pandas.core.frame.DataFrame'>\n",
      "RangeIndex: 3300 entries, 0 to 3299\n",
      "Data columns (total 5 columns):\n",
      " #   Column        Non-Null Count  Dtype  \n",
      "---  ------        --------------  -----  \n",
      " 0   date          3300 non-null   object \n",
      " 1   price         3300 non-null   float64\n",
      " 2   total_volume  3300 non-null   float64\n",
      " 3   market_cap    3299 non-null   float64\n",
      " 4   coin_name     3300 non-null   object \n",
      "dtypes: float64(3), object(2)\n",
      "memory usage: 129.0+ KB\n"
     ]
    }
   ],
   "source": [
    "bitcoin_df.info()"
   ]
  },
  {
   "cell_type": "code",
   "execution_count": 8,
   "id": "53468ea6-57da-42b5-a745-a0720c768029",
   "metadata": {},
   "outputs": [
    {
     "name": "stdout",
     "output_type": "stream",
     "text": [
      "['bitcoin']\n"
     ]
    }
   ],
   "source": [
    "unique_values = bitcoin_df['coin_name'].unique()\n",
    "print(unique_values)"
   ]
  },
  {
   "cell_type": "markdown",
   "id": "5e79d2fa-c508-4fd5-90ab-07cb2f3042fc",
   "metadata": {},
   "source": [
    "The value in the \"coin_name\" column does not provide any information for the model, therefore it will be removed. There is one value missing in the \"market_cap\" column, which will require further analysis. It is also necessary to change the data type in the \"date\" column to datetime."
   ]
  },
  {
   "cell_type": "code",
   "execution_count": 9,
   "id": "3defac81-2d16-443a-99f1-4fff34247358",
   "metadata": {},
   "outputs": [
    {
     "name": "stdout",
     "output_type": "stream",
     "text": [
      "          date     price  total_volume  market_cap\n",
      "821 2017-04-02  1098.068  8.023151e+07         NaN\n"
     ]
    }
   ],
   "source": [
    "bitcoin_df.drop(['coin_name'],axis=1,inplace=True)\n",
    "bitcoin_df['date'] = pd.to_datetime(bitcoin_df['date'], format='%Y-%m-%d')\n",
    "rows_with_null = bitcoin_df[bitcoin_df['market_cap'].isnull()]\n",
    "print(rows_with_null)"
   ]
  },
  {
   "cell_type": "code",
   "execution_count": 10,
   "id": "a17d87c3-8b95-46b2-8b8e-f4ff88b6bbb3",
   "metadata": {},
   "outputs": [
    {
     "name": "stdout",
     "output_type": "stream",
     "text": [
      "          date        price  total_volume    market_cap\n",
      "816 2017-03-28  1044.722000  1.276436e+08  1.696879e+10\n",
      "817 2017-03-29  1038.617198  1.211691e+08  1.687138e+10\n",
      "818 2017-03-30  1031.492906  1.024388e+08  1.675784e+10\n",
      "819 2017-03-31  1078.274711  1.332871e+08  1.751958e+10\n",
      "820 2017-04-01  1085.253000  8.775043e+07  1.763483e+10\n",
      "821 2017-04-02  1098.068000  8.023151e+07           NaN\n",
      "822 2017-04-03  1139.308275  1.317652e+08  1.851790e+10\n",
      "823 2017-04-04  1140.497590  1.082230e+08  1.853906e+10\n",
      "824 2017-04-05  1132.339905  8.743962e+07  1.840873e+10\n",
      "825 2017-04-06  1194.211000  1.283093e+08  1.941680e+10\n",
      "826 2017-04-07  1189.775124  9.084018e+07  1.934705e+10\n",
      "827 2017-04-08  1182.271000  4.389967e+07  1.922711e+10\n",
      "828 2017-04-09  1187.699000  4.115143e+07  1.931619e+10\n",
      "829 2017-04-10  1210.515000  7.605022e+07  1.969102e+10\n"
     ]
    }
   ],
   "source": [
    "filtered_df = bitcoin_df[(bitcoin_df['date'] >= '2017-03-28') & (bitcoin_df['date'] <= '2017-04-10')]\n",
    "print(filtered_df)"
   ]
  },
  {
   "cell_type": "code",
   "execution_count": 11,
   "id": "eae01ca5-8a87-4e06-a971-900efd949adb",
   "metadata": {},
   "outputs": [],
   "source": [
    "bitcoin_df['market_cap'] = bitcoin_df['market_cap'].interpolate(method='linear')"
   ]
  },
  {
   "cell_type": "code",
   "execution_count": 12,
   "id": "a20bff40-1774-453e-8aed-93d2b6fd720d",
   "metadata": {
    "scrolled": true
   },
   "outputs": [
    {
     "name": "stdout",
     "output_type": "stream",
     "text": [
      "<class 'pandas.core.frame.DataFrame'>\n",
      "RangeIndex: 3300 entries, 0 to 3299\n",
      "Data columns (total 4 columns):\n",
      " #   Column        Non-Null Count  Dtype         \n",
      "---  ------        --------------  -----         \n",
      " 0   date          3300 non-null   datetime64[ns]\n",
      " 1   price         3300 non-null   float64       \n",
      " 2   total_volume  3300 non-null   float64       \n",
      " 3   market_cap    3300 non-null   float64       \n",
      "dtypes: datetime64[ns](1), float64(3)\n",
      "memory usage: 103.2 KB\n"
     ]
    }
   ],
   "source": [
    "bitcoin_df.info()"
   ]
  },
  {
   "cell_type": "markdown",
   "id": "6d6c7bf7-955b-405a-ad8a-f8166359b539",
   "metadata": {},
   "source": [
    "The missing value in the \"market_cap\" column was filled using a linear value between two available values. The next step will be to prepare the target variable, i.e., the value of bitcoin price 3 days ahead."
   ]
  },
  {
   "cell_type": "code",
   "execution_count": 13,
   "id": "9aef2a53-edf3-46d0-9b91-5a197dbfa565",
   "metadata": {},
   "outputs": [],
   "source": [
    "# Create the target variable by shifting the values from the \"price\" column forward by 3 days.\n",
    "bitcoin_df['price_target'] = bitcoin_df['price'].shift(3)\n",
    "\n",
    "# Remove the first 3 rows, which do not have the target variable.\n",
    "bitcoin_df = bitcoin_df.iloc[3:]\n",
    "\n",
    "# Set the \"date\" variable as the index to facilitate further analysis.\n",
    "bitcoin_df.set_index('date', inplace=True)"
   ]
  },
  {
   "cell_type": "code",
   "execution_count": 14,
   "id": "e27bb5f7-910f-49ca-b64e-2158970e386f",
   "metadata": {
    "scrolled": true
   },
   "outputs": [
    {
     "data": {
      "text/html": [
       "<div>\n",
       "<style scoped>\n",
       "    .dataframe tbody tr th:only-of-type {\n",
       "        vertical-align: middle;\n",
       "    }\n",
       "\n",
       "    .dataframe tbody tr th {\n",
       "        vertical-align: top;\n",
       "    }\n",
       "\n",
       "    .dataframe thead th {\n",
       "        text-align: right;\n",
       "    }\n",
       "</style>\n",
       "<table border=\"1\" class=\"dataframe\">\n",
       "  <thead>\n",
       "    <tr style=\"text-align: right;\">\n",
       "      <th></th>\n",
       "      <th>price</th>\n",
       "      <th>total_volume</th>\n",
       "      <th>market_cap</th>\n",
       "      <th>price_target</th>\n",
       "    </tr>\n",
       "    <tr>\n",
       "      <th>date</th>\n",
       "      <th></th>\n",
       "      <th></th>\n",
       "      <th></th>\n",
       "      <th></th>\n",
       "    </tr>\n",
       "  </thead>\n",
       "  <tbody>\n",
       "    <tr>\n",
       "      <th>2015-01-04</th>\n",
       "      <td>260.936000</td>\n",
       "      <td>2.055001e+08</td>\n",
       "      <td>3.571640e+09</td>\n",
       "      <td>313.992000</td>\n",
       "    </tr>\n",
       "    <tr>\n",
       "      <th>2015-01-05</th>\n",
       "      <td>273.220000</td>\n",
       "      <td>1.550381e+08</td>\n",
       "      <td>3.740880e+09</td>\n",
       "      <td>314.446000</td>\n",
       "    </tr>\n",
       "    <tr>\n",
       "      <th>2015-01-06</th>\n",
       "      <td>285.373800</td>\n",
       "      <td>9.700290e+07</td>\n",
       "      <td>3.908408e+09</td>\n",
       "      <td>286.572000</td>\n",
       "    </tr>\n",
       "    <tr>\n",
       "      <th>2015-01-07</th>\n",
       "      <td>295.872500</td>\n",
       "      <td>1.106742e+08</td>\n",
       "      <td>4.053239e+09</td>\n",
       "      <td>260.936000</td>\n",
       "    </tr>\n",
       "    <tr>\n",
       "      <th>2015-01-08</th>\n",
       "      <td>284.452500</td>\n",
       "      <td>8.657054e+07</td>\n",
       "      <td>3.897824e+09</td>\n",
       "      <td>273.220000</td>\n",
       "    </tr>\n",
       "    <tr>\n",
       "      <th>...</th>\n",
       "      <td>...</td>\n",
       "      <td>...</td>\n",
       "      <td>...</td>\n",
       "      <td>...</td>\n",
       "    </tr>\n",
       "    <tr>\n",
       "      <th>2024-01-10</th>\n",
       "      <td>46105.946078</td>\n",
       "      <td>3.988792e+10</td>\n",
       "      <td>9.021669e+11</td>\n",
       "      <td>43956.120717</td>\n",
       "    </tr>\n",
       "    <tr>\n",
       "      <th>2024-01-11</th>\n",
       "      <td>46632.313148</td>\n",
       "      <td>5.203006e+10</td>\n",
       "      <td>9.152593e+11</td>\n",
       "      <td>43883.743879</td>\n",
       "    </tr>\n",
       "    <tr>\n",
       "      <th>2024-01-12</th>\n",
       "      <td>46314.355542</td>\n",
       "      <td>4.919813e+10</td>\n",
       "      <td>9.098464e+11</td>\n",
       "      <td>46936.185561</td>\n",
       "    </tr>\n",
       "    <tr>\n",
       "      <th>2024-01-13</th>\n",
       "      <td>42893.929606</td>\n",
       "      <td>4.591330e+10</td>\n",
       "      <td>8.383835e+11</td>\n",
       "      <td>46105.946078</td>\n",
       "    </tr>\n",
       "    <tr>\n",
       "      <th>2024-01-14</th>\n",
       "      <td>42848.474516</td>\n",
       "      <td>1.942475e+10</td>\n",
       "      <td>8.391987e+11</td>\n",
       "      <td>46632.313148</td>\n",
       "    </tr>\n",
       "  </tbody>\n",
       "</table>\n",
       "<p>3297 rows × 4 columns</p>\n",
       "</div>"
      ],
      "text/plain": [
       "                   price  total_volume    market_cap  price_target\n",
       "date                                                              \n",
       "2015-01-04    260.936000  2.055001e+08  3.571640e+09    313.992000\n",
       "2015-01-05    273.220000  1.550381e+08  3.740880e+09    314.446000\n",
       "2015-01-06    285.373800  9.700290e+07  3.908408e+09    286.572000\n",
       "2015-01-07    295.872500  1.106742e+08  4.053239e+09    260.936000\n",
       "2015-01-08    284.452500  8.657054e+07  3.897824e+09    273.220000\n",
       "...                  ...           ...           ...           ...\n",
       "2024-01-10  46105.946078  3.988792e+10  9.021669e+11  43956.120717\n",
       "2024-01-11  46632.313148  5.203006e+10  9.152593e+11  43883.743879\n",
       "2024-01-12  46314.355542  4.919813e+10  9.098464e+11  46936.185561\n",
       "2024-01-13  42893.929606  4.591330e+10  8.383835e+11  46105.946078\n",
       "2024-01-14  42848.474516  1.942475e+10  8.391987e+11  46632.313148\n",
       "\n",
       "[3297 rows x 4 columns]"
      ]
     },
     "execution_count": 14,
     "metadata": {},
     "output_type": "execute_result"
    }
   ],
   "source": [
    "bitcoin_df"
   ]
  },
  {
   "cell_type": "code",
   "execution_count": 15,
   "id": "bf0f514a-8256-4c6f-b967-2b0890dfec8c",
   "metadata": {},
   "outputs": [],
   "source": [
    "# Save the remaining columns (all except the last one) to PATH_TO_CLEANED_DATA\n",
    "bitcoin_df.iloc[:, :-1].to_csv(PATH_TO_CLEANED_DATA)\n",
    "\n",
    "# Save the last column to PATH_TO_TARGET_DATA\n",
    "bitcoin_df.iloc[:, -1].to_csv(PATH_TO_TARGET_DATA)"
   ]
  }
 ],
 "metadata": {
  "kernelspec": {
   "display_name": "Python 3 (ipykernel)",
   "language": "python",
   "name": "python3"
  },
  "language_info": {
   "codemirror_mode": {
    "name": "ipython",
    "version": 3
   },
   "file_extension": ".py",
   "mimetype": "text/x-python",
   "name": "python",
   "nbconvert_exporter": "python",
   "pygments_lexer": "ipython3",
   "version": "3.9.12"
  }
 },
 "nbformat": 4,
 "nbformat_minor": 5
}
